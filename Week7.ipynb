{
 "cells": [
  {
   "cell_type": "markdown",
   "metadata": {},
   "source": [
    "#  Exercise 1\n",
    "\n",
    "With \"websraping\" go to DR.dk, and find all headlines containing the word or name of your choice. \n",
    "For example: \"Mette\", Vaccine\", \"Corona\" and so on. \n",
    "\n",
    "Try to choose something popular/current, to be sure to get results/headlines. \n",
    "\n",
    "When printing the list of headlines, try also to print the amount of headlines in the list."
   ]
  },
  {
   "cell_type": "code",
   "execution_count": 16,
   "metadata": {},
   "outputs": [
    {
     "name": "stdout",
     "output_type": "stream",
     "text": [
      "['Globalt vaccineprogram køber 350 millioner doser Novavax', 'Tyskland vil tillade AstraZeneca-vaccine til voksne - familielæge skal give den ', 'Mette Frederiksen er klar til at se på Bidens forslag om at ophæve patenter på coronavacciner', 'Mette Frederiksen er klar til at se på Bidens forslag om at ophæve patenter på coronavacciner', 'Ugens coronatal forklaret: Kan vi stole på, at alle har fået vacciner til august?', 'Ugens coronatal forklaret: Kan vi stole på, at alle har fået vacciner til august?', \"IOC og Pfizer vil sikre OL ved at give vacciner til alle atleter: 'Det er super glædeligt'\", 'Slutdato for vacciner er rykket til 22. august: Se din vaccinationstid her', 'Se vaccinen blive rullet ud: Så langt er Danmark og resten af verden', 'Genåbning med restriktioner: Hvorfor egentlig, når de mest sårbare er vaccineret?\\xa0', 'USA vil have patenter på coronavacciner ophævet midlertidigt', 'USA vil have patenter på coronavacciner ophævet midlertidigt'] 12\n"
     ]
    }
   ],
   "source": [
    "import matplotlib.pyplot as plt\n",
    "import bs4\n",
    "import requests\n",
    "import urllib.request\n",
    "import re\n",
    "\n",
    "url = \"https://www.dr.dk/\"\n",
    "rUrl = requests.get(url)\n",
    "rUrl.raise_for_status()\n",
    "\n",
    "beauti = bs4.BeautifulSoup(rUrl.text, 'html.parser')\n",
    "\n",
    "listHeadlines = []\n",
    "listWithVaccine = []\n",
    "\n",
    "headlines = beauti.findAll('a')\n",
    "for headline in headlines:\n",
    "    listHeadlines.append(headline.getText())\n",
    "\n",
    "for headline in headlines:\n",
    "    if ('vaccine' in headline.getText()):\n",
    "        listWithVaccine.append(headline.getText())\n",
    "        \n",
    "print(listWithVaccine, len(listWithVaccine))\n"
   ]
  },
  {
   "cell_type": "markdown",
   "metadata": {},
   "source": [
    "# Exercise 2. \n",
    "Pick 3 words from the text you get from exercise 1.\n",
    "\n",
    "Use \"Regular Expressions\" to find whichever words you chose and show how many times they occur in the text with a bar plot."
   ]
  },
  {
   "cell_type": "code",
   "execution_count": 37,
   "metadata": {},
   "outputs": [
    {
     "data": {
      "image/png": "[encoded data removed]",
      "text/plain": [
       "<Figure size 432x288 with 1 Axes>"
      ]
     },
     "metadata": {
      "needs_background": "light"
     },
     "output_type": "display_data"
    }
   ],
   "source": [
    "word1 = re.compile('corona')\n",
    "word2 = re.compile('Mette')\n",
    "word3 = re.compile('USA')\n",
    "\n",
    "word1_find = word1.search(str(listWithVaccine))\n",
    "word2_find = word2.search(str(listWithVaccine))\n",
    "word3_find = word3.search(str(listWithVaccine))\n",
    "\n",
    "all_word1 = word1.findall(str(listWithVaccine))\n",
    "all_word2 = word2.findall(str(listWithVaccine))\n",
    "all_word3 = word3.findall(str(listWithVaccine))\n",
    "\n",
    "listOfNames = [word1_find.group(0), word2_find.group(0), word3_find.group(0)]\n",
    "listOfTimes = [len(all_word1), len(all_word2), len(all_word3)]\n",
    "\n",
    "plt.bar(listOfNames,listOfTimes)\n",
    "plt.show()"
   ]
  },
  {
   "cell_type": "markdown",
   "metadata": {},
   "source": [
    "# Exercise 3. \n",
    "Use selenium for this exercise\n",
    "Use one of the 3 words as a search keyword and use google.com With that keyword and then get the first link from that search\n"
   ]
  },
  {
   "cell_type": "code",
   "execution_count": 53,
   "metadata": {},
   "outputs": [
    {
     "name": "stdout",
     "output_type": "stream",
     "text": [
      "https://www.sst.dk/da/corona\n"
     ]
    }
   ],
   "source": [
    "from selenium.webdriver.firefox.options import Options\n",
    "from selenium import webdriver\n",
    "\n",
    "urlSelenium = 'https://www.google.com/'\n",
    "\n",
    "options = Options()\n",
    "options.headless = True\n",
    "\n",
    "browser = webdriver.Firefox(options = options)\n",
    "browser.get(urlSelenium)\n",
    "browser.implicitly_wait(3)\n",
    "\n",
    "searchBar = browser.find_element_by_name('q')\n",
    "searchBar.send_keys('Corona')\n",
    "searchBar.submit()\n",
    "\n",
    "link = browser.find_element_by_xpath('//a[@href=\"https://www.sst.dk/da/corona\"]')\n",
    "\n",
    "the_link = link.get_attribute(\"href\")\n",
    "print(the_link)"
   ]
  }
 ],
 "metadata": {
  "kernelspec": {
   "display_name": "Python 3",
   "language": "python",
   "name": "python3"
  },
  "language_info": {
   "codemirror_mode": {
    "name": "ipython",
    "version": 3
   },
   "file_extension": ".py",
   "mimetype": "text/x-python",
   "name": "python",
   "nbconvert_exporter": "python",
   "pygments_lexer": "ipython3",
   "version": "3.7.6"
  }
 },
 "nbformat": 4,
 "nbformat_minor": 4
}
