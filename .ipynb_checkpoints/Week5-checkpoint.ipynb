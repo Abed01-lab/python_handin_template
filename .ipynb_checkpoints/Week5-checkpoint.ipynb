{
 "cells": [
  {
   "cell_type": "markdown",
   "metadata": {},
   "source": [
    "# Handin exercise for week 5: Pandas"
   ]
  },
  {
   "cell_type": "markdown",
   "metadata": {},
   "source": [
    "## Ex1 Use data from Danmarks Statistik - Databanken\n",
    "1. Go to https://www.dst.dk/da/Statistik/brug-statistikken/muligheder-i-statistikbanken/api#testkonsol\n",
    "2. Open 'Konsol' and click 'Start Konsol'\n",
    "3. In the console at pt 1: choose 'Retrieve tables', pt 2: choose get request and json format and pt 3: execute:\n",
    "  1. check the result\n",
    "  2. in the code below this same get request is used to get information about all available data tables in 'databanken'. \n",
    "4. Change pt. 1 in the console to 'Retrieve data', pt 2: 'get request' and Table id: 'FOLK1A', format: csv, delimiter: semicolon and click: 'Variable and value codes' and choose some sub categories (Hint: hover over the codes to see their meaning). Finally execute and see what data you get.\n",
    "5. With data aggregation and data visualization answer the following questions:\n",
    "  1. What is the change in pct of divorced danes from 2008 to 2020?\n",
    "  2. Which of the 5 biggest cities has the highest percentage of 'Never Married' in 2020?\n",
    "  3. Show a bar chart of changes in marrital status in Copenhagen from 2008 till now\n",
    "  4. Show 2 plots in same figure: 'Married' and 'Never Married' for all ages in DK in 2020 (Hint: x axis is age from 0-125, y axis is how many people in the 2 categories). Add lengend to show names on graphs\n",
    "  \n",
    "## Ex2 Use another table (extra)\n",
    "Choose any of the other tables in 'databanken' to find interesting data.\n",
    "1. Collect the data\n",
    "2. Pose 5 or more interesing questions to the data\n",
    "3. Answer the questions by aggregating the data\n",
    "4. Illustrate the answers with visual plots"
   ]
  },
  {
   "cell_type": "markdown",
   "metadata": {},
   "source": [
    "## Status \n",
    "All of ex1 is complete"
   ]
  },
  {
   "cell_type": "markdown",
   "metadata": {},
   "source": [
    "5.A"
   ]
  },
  {
   "cell_type": "code",
   "execution_count": 1,
   "metadata": {},
   "outputs": [
    {
     "name": "stdout",
     "output_type": "stream",
     "text": [
      "  CIVILSTAND     TID       OMRÅDE  INDHOLD\n",
      "0      Ugift  2008K4  Hele landet  2568255\n",
      "1      Ugift  2020K4  Hele landet  2859116\n",
      "2      I alt  2008K4  Hele landet  5505995\n",
      "3      I alt  2020K4  Hele landet  5837213\n"
     ]
    },
    {
     "data": {
      "image/png": "[encoded data removed]",
      "text/plain": [
       "<Figure size 432x288 with 1 Axes>"
      ]
     },
     "metadata": {
      "needs_background": "light"
     },
     "output_type": "display_data"
    }
   ],
   "source": [
    "import pandas as pd\n",
    "import matplotlib.pyplot as plt\n",
    "\n",
    "def udregnProcent(antal, ialt):\n",
    "    sum = (antal * 100) / ialt\n",
    "    return sum\n",
    "\n",
    "\n",
    "url = 'https://api.statbank.dk/v1/data/FOLK1A/CSV?delimiter=Semicolon&CIVILSTAND=U%2CTOT&Tid=2008K4%2C2020K4&OMR%C3%85DE=000'\n",
    "df = pd.read_csv(url, sep=';')\n",
    "print(df)\n",
    "årgang = df.iloc[:2,1]\n",
    "plotårgang = [årgang[0], årgang[1]]\n",
    "indhold = df.iloc[:,3]\n",
    "plotindhold = [udregnProcent(indhold[0], indhold[2]), udregnProcent(indhold[1], indhold[3])]\n",
    "plt.bar(plotårgang, plotindhold, width=0.5, align='center')\n",
    "plt.ylabel('ugifte mennesker i hele landet i procent')\n",
    "plt.show()\n",
    "\n",
    "\n",
    "\n"
   ]
  },
  {
   "cell_type": "markdown",
   "metadata": {},
   "source": [
    "5.B"
   ]
  },
  {
   "cell_type": "code",
   "execution_count": 2,
   "metadata": {
    "scrolled": true
   },
   "outputs": [
    {
     "name": "stdout",
     "output_type": "stream",
     "text": [
      "[34.33410886441823, 14.612278760288145, 2.1342261034529555, 0.20481855230777624, 0.6976282179526819, 100.0]\n"
     ]
    },
    {
     "data": {
      "text/plain": [
       "<function matplotlib.pyplot.show(*args, **kw)>"
      ]
     },
     "execution_count": 2,
     "metadata": {},
     "output_type": "execute_result"
    },
    {
     "data": {
      "image/png": "[encoded data removed]",
      "text/plain": [
       "<Figure size 432x288 with 1 Axes>"
      ]
     },
     "metadata": {
      "needs_background": "light"
     },
     "output_type": "display_data"
    }
   ],
   "source": [
    "import pandas as pd\n",
    "import matplotlib.pyplot as plt\n",
    "\n",
    "\n",
    "url = 'https://api.statbank.dk/v1/data/FOLK1A/CSV?delimiter=Semicolon&CIVILSTAND=U&OMR%C3%85DE=084%2C101%2C147%2C155%2C185%2C000&Tid=2020K4'\n",
    "df = pd.read_csv(url, sep=';')\n",
    "indhold = df.iloc[:,3]\n",
    "plotindhold = []\n",
    "\n",
    "for element in indhold:\n",
    "    plotindhold.append(udregnProcent(element, indhold[5]))\n",
    "\n",
    "def udregnProcent(antal, ialt):\n",
    "    sum = (antal * 100) / ialt\n",
    "    return sum\n",
    "\n",
    "print(plotindhold)\n",
    "\n",
    "plt.bar(df.iloc[:,1], plotindhold, width=0.3, align='center')\n",
    "plt.xticks(rotation=30)\n",
    "plt.ylabel('Ugifte mennesker i procent')\n",
    "plt.show"
   ]
  },
  {
   "cell_type": "markdown",
   "metadata": {},
   "source": [
    "5.C"
   ]
  },
  {
   "cell_type": "code",
   "execution_count": 3,
   "metadata": {
    "scrolled": true
   },
   "outputs": [
    {
     "name": "stdout",
     "output_type": "stream",
     "text": [
      "      OMRÅDE     TID      CIVILSTAND  INDHOLD\n",
      "0  København  2008K1  Gift/separeret   128556\n",
      "1  København  2008K1           I alt   509861\n",
      "2  København  2021K1  Gift/separeret   150279\n",
      "3  København  2021K1           I alt   638117\n"
     ]
    },
    {
     "data": {
      "image/png": "[encoded data removed]",
      "text/plain": [
       "<Figure size 432x288 with 1 Axes>"
      ]
     },
     "metadata": {
      "needs_background": "light"
     },
     "output_type": "display_data"
    }
   ],
   "source": [
    "import pandas as pd\n",
    "import matplotlib.pyplot as plt\n",
    "\n",
    "\n",
    "url = 'https://api.statbank.dk/v1/data/FOLK1A/CSV?delimiter=Semicolon&OMR%C3%85DE=101%2C&Tid=2008K1%2C2021K1&CIVILSTAND=G%2CTOT'\n",
    "df = pd.read_csv(url, sep=';')\n",
    "indhold = df.iloc[:,3]\n",
    "print(df)\n",
    "\n",
    "def udregnProcent(antal, ialt):\n",
    "    sum = (antal * 100) / ialt\n",
    "    return sum\n",
    "\n",
    "\n",
    "plt.bar(['2008', '2020'], [udregnProcent(indhold[0], indhold[1]), udregnProcent(indhold[2], indhold[3])], width=0.5, align='center')\n",
    "plt.ylabel('mennesker der har ændrede deres civiltilstand')\n",
    "plt.show()"
   ]
  },
  {
   "cell_type": "markdown",
   "metadata": {},
   "source": [
    "5.D"
   ]
  },
  {
   "cell_type": "code",
   "execution_count": 4,
   "metadata": {
    "scrolled": false
   },
   "outputs": [
    {
     "data": {
      "image/png": "[encoded data removed]",
      "text/plain": [
       "<Figure size 432x288 with 1 Axes>"
      ]
     },
     "metadata": {
      "needs_background": "light"
     },
     "output_type": "display_data"
    }
   ],
   "source": [
    "import pandas as pd\n",
    "import matplotlib.pyplot as plt\n",
    "import matplotlib\n",
    "import numpy as np\n",
    "    \n",
    "url = 'https://api.statbank.dk/v1/data/FOLK1A/CSV?delimiter=Semicolon&CIVILSTAND=G%2CU&ALDER=*&Tid=2020K4'\n",
    "df = pd.read_csv(url, sep=';')\n",
    "df\n",
    "ugift = df.iloc[128:,3]\n",
    "gift = df.iloc[1:127,3]\n",
    "alder = np.arange(126)\n",
    "\n",
    "plotugift = []\n",
    "plotgift = []\n",
    "\n",
    "for element in ugift:\n",
    "    plotugift.append(element)\n",
    "for element in gift:\n",
    "    plotgift.append(element)\n",
    "\n",
    "plt.bar(alder, plotgift, width=0.4, color='green')\n",
    "plt.bar(alder, plotugift, width=0.4, color='red')\n",
    "plt.ylabel('Antal')\n",
    "plt.xlabel('Alder')\n",
    "plt.title('Antal ugfite/gifte i Danmark')\n",
    "plt.legend(['gift', 'ugift'])\n",
    "plt.show()\n"
   ]
  }
 ],
 "metadata": {
  "kernelspec": {
   "display_name": "Python 3",
   "language": "python",
   "name": "python3"
  },
  "language_info": {
   "codemirror_mode": {
    "name": "ipython",
    "version": 3
   },
   "file_extension": ".py",
   "mimetype": "text/x-python",
   "name": "python",
   "nbconvert_exporter": "python",
   "pygments_lexer": "ipython3",
   "version": "3.7.6"
  }
 },
 "nbformat": 4,
 "nbformat_minor": 4
}
